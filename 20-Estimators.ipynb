{
 "cells": [
  {
   "cell_type": "markdown",
   "id": "f95fc924",
   "metadata": {
    "slideshow": {
     "slide_type": "slide"
    }
   },
   "source": [
    "# Point Estimators"
   ]
  },
  {
   "cell_type": "markdown",
   "id": "d5c1b731",
   "metadata": {
    "slideshow": {
     "slide_type": "slide"
    }
   },
   "source": [
    "Suppose we wanted to know how much money students are spending on textbooks at City Tech. It would be impossible to ask everyone in at the school to answer the question: How much have you spent on textbooks? If, instead, we took a random sample of the population of size $10$, what could we say about the overall population's textbook expenditures and how \"certain\" can we be of that?"
   ]
  },
  {
   "cell_type": "markdown",
   "id": "4903a8bc",
   "metadata": {
    "slideshow": {
     "slide_type": "slide"
    }
   },
   "source": [
    "## Estimators\n",
    "\n",
    "An **estimator** is a statistic whose value depends on the particular sample drawn. The value of the estimator, the **estimate**, is used to predict the value of a population parameter.\n",
    "\n",
    "An estimator whose expected value is equal to the parameter it is estimating is said to be **unbiased**."
   ]
  },
  {
   "cell_type": "markdown",
   "id": "9eed33ed",
   "metadata": {
    "slideshow": {
     "slide_type": "slide"
    }
   },
   "source": [
    "## Point Estimator of a Population Mean\n",
    "\n",
    "Let $X_1, X_2,\\dots, X_n$ denote a sample from a population with an *unknown* mean $\\mu$. We say that the sample mean $\\overline{X}$ be be used an as estimator of $\\mu$ since $$E[\\overline{X}]=\\mu.$$ This is an example of an unbiased estimator."
   ]
  },
  {
   "cell_type": "markdown",
   "id": "682b20b9",
   "metadata": {
    "slideshow": {
     "slide_type": "subslide"
    }
   },
   "source": [
    "# Example\n",
    "\n",
    "Suppose that in our textbook sample, we find that our sample of size $10$ reported spending the following amounts (to the nearest dollar):\n",
    "\n",
    "$$422, 146, 368, 52, 212, 454, 366, 711, 227, 680.$$\n",
    "\n",
    "What would be a reasonable estimate for the amount of money spent on textbooks by a typical student at City Tech?\n",
    "\n",
    "If the standard deviation of the population, $\\sigma$, is known, we can use the fact that $$SD(\\overline{X})=\\frac{\\sigma}{\\sqrt{n}}.$$ This quantity is sometimes referred to as the **standard error**. If $n$ is large, then we know that $\\overline{X}$ has an approximate normal distribution, so we can feel confident that the population mean $\\mu$ is likely not more than $\\pm2$ standard errors away (using the 68-95-99.7 rule) from our estimate. Also notice that $SD(\\overline{X})$ gets smaller as $n$ gets larger, so larger sample sizes will allow us to be confident in a narrower range of values.\n",
    "\n",
    "If the standard deviation of the population is not known, we have will have to do something else. (To be continued in another section.)"
   ]
  },
  {
   "cell_type": "markdown",
   "id": "39318fe6",
   "metadata": {
    "slideshow": {
     "slide_type": "slide"
    }
   },
   "source": [
    "## Point Estimator of a Population Proportion\n",
    "\n",
    "Suppose that for some large population, there is a trait of interest that occurs with an unknown proportion $p$. We would like to estimate $p$ by taking a random sample of the population of size $n$. \n",
    "\n",
    "If we let $X$ denote the number of members in our sample that have the desired trait, then we estimate $p$ via the estimator $$\\hat{p} = \\frac{X}{n}.$$\n",
    "\n",
    "We know that $\\hat{p}$ is unbiased since $$E[\\hat{p}] = p,$$ and furthermore, we also have that $$SD(\\hat{p}) = \\sqrt{\\frac{p(1-p)}{n}}.$$"
   ]
  },
  {
   "cell_type": "markdown",
   "id": "0d6dc144",
   "metadata": {
    "slideshow": {
     "slide_type": "subslide"
    }
   },
   "source": [
    "## Example\n",
    "\n",
    "Suppose that we want to know what proportion of the U.S. population enjoys Dr. Pepper. We take a sample of $1,000$ individuals, and we find that 644 enjoy it and the rest do not. Then we would estimate that about $64.4\\%$ of the U.S. enjoys Dr. Pepper since $\\hat{p} = \\frac{644}{1,000}.$ \n",
    "\n",
    "To decide how confident we are in this estimate, we would need to know the standard error. Using $\\hat{p}=0.644$, we esimate the standard error as $\\sqrt{\\frac{0.644(1-0.644)}{1,000}}\\approx 0.015.$ Which suggests that there is a high likelyhood that the true value of $p$ is not more than $0.03$ away from our $\\hat{p}$. "
   ]
  },
  {
   "cell_type": "markdown",
   "id": "01c465df",
   "metadata": {
    "slideshow": {
     "slide_type": "subslide"
    }
   },
   "source": [
    "## Problems\n",
    "\n",
    "1. A random sample of 100 parents found that 64 are in favor of raising the driving age to 18. Estimate the proportion of the entire population that is in favor of raising the driving age to 18 and estimate the standard error.\n",
    "\n",
    "2. A random sample of 1000 construction workers revealed that 122 are presently unemployed. Estimate the proportion of the entire population that is in favor of raising the driving age to 18 and estimate the standard error."
   ]
  },
  {
   "cell_type": "markdown",
   "id": "d6a60efc",
   "metadata": {
    "slideshow": {
     "slide_type": "slide"
    }
   },
   "source": [
    "## Estimating a Population Variance (Extra)\n",
    "\n",
    "Let $X_1, X_2,\\dots, X_n$ is a sample from a population whose variance $\\sigma^2$ is *unknown*.\n",
    "\n",
    "If the population mean $\\mu$ is *known*, then $$\\frac{1}{n}\\sum_{i=1}^n\\left(X_i-\\mu\\right)^2$$ is an appropriate estimator for $\\sigma^2.$\n",
    "\n",
    "If the population mean is *unknown*, then $$S^2 = \\frac{1}{n-1}\\sum_{i=1}^n\\left(X_i-\\overline{X}\\right)^2$$ is an appropriate estimator for $\\sigma^2.$\n",
    "\n",
    "The reason why $n-1$ appears in the formula for $S^2$, is that we want $S^2$ to be an *unbiased* estimator, so that $E[S^2]=\\sigma^2$. Since $S^2$ is an estimator that uses an estimator, $\\overline{X}$, an adjustment must be made to ensure this lack of bias."
   ]
  }
 ],
 "metadata": {
  "celltoolbar": "Slideshow",
  "kernelspec": {
   "display_name": "Python 3.10.12 - rstudio",
   "language": "python",
   "name": "rstudio-user-3.10.12"
  },
  "language_info": {
   "codemirror_mode": {
    "name": "ipython",
    "version": 3
   },
   "file_extension": ".py",
   "mimetype": "text/x-python",
   "name": "python",
   "nbconvert_exporter": "python",
   "pygments_lexer": "ipython3",
   "version": "3.10.12"
  }
 },
 "nbformat": 4,
 "nbformat_minor": 5
}
