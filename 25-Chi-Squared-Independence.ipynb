{
 "cells": [
  {
   "cell_type": "markdown",
   "id": "63081412",
   "metadata": {
    "slideshow": {
     "slide_type": "slide"
    }
   },
   "source": [
    "# Testing for Independence in Populations Classified According to Two Characteristics"
   ]
  },
  {
   "cell_type": "markdown",
   "id": "241b7d8a",
   "metadata": {
    "slideshow": {
     "slide_type": "slide"
    }
   },
   "source": [
    "## Motivating Example\n",
    "\n",
    "The management of a certain hotel is interested in whether all its guests are treated the same regardless of the prices of their rooms. They randomly chose 155 recent guests and questioned them about the service they had received at the hotel. The following summary data resulted:\n",
    "\n",
    "|Service ranking | Economy | Standard | Luxury |\n",
    "|----------------|---------|----------|--------|\n",
    "|Excellent  | 30 | 21 | 9 |\n",
    "|Good       | 36 | 29 | 8 |\n",
    "|Fair       | 12 | 8  | 2 |\n",
    "\n",
    "We want to determine if service ranking is independent of the price of the room in which the guest stayed. We refer to such tables as **contingency tables**."
   ]
  },
  {
   "cell_type": "markdown",
   "id": "dadd1f28",
   "metadata": {
    "slideshow": {
     "slide_type": "slide"
    }
   },
   "source": [
    "## Test for Independence\n",
    "\n",
    "Suppose that we have a large population classified according to two distinct categories $X$ and $Y$. Suppose that the possible values for $X$ are $1,2,\\dots, r$ and the possible values for $Y$ are $1,2\\dots, s$. \n",
    "\n",
    "Let $P_i = P\\{X=i\\}$, $Q_j = P\\{Y=j\\}$, and $P_{ij} = P\\{X=i\\text{ and }Y=j\\}$ for $i=1,2,\\dots,r$ and $j=1,2,\\dots,s$. We want to determine if there is any validity to the claim that $P_{ij} = P_iQ_j$ for $i=1,2,\\dots,r$ and $j=1,2,\\dots,s$.\n",
    "\n",
    "That is, we want to determine if the categories $X$ and $Y$ are independent of each other. Or does knowledge of one influence the chances of the other's value? \n",
    "\n",
    "Recall that $A$ and $B$ are independent events if $$P\\{A\\text{ and }B\\} = P\\{A\\}P\\{B\\}.$$"
   ]
  },
  {
   "cell_type": "markdown",
   "id": "9c7d77ef",
   "metadata": {
    "slideshow": {
     "slide_type": "subslide"
    }
   },
   "source": [
    "In particular, we are interested in testing $$H_0: P_{ij} = P_iQ_j\\text{ for all $i$ and $j$}$$ against the alternative $$H_1: P_{ij}\\neq P_iQ_j\\text{ for some choice of $i$ and $j$}.$$"
   ]
  },
  {
   "cell_type": "markdown",
   "id": "36158eac",
   "metadata": {
    "slideshow": {
     "slide_type": "subslide"
    }
   },
   "source": [
    "We can do this by computing the following test statistic: $$TS = \\sum_{i=1}^r\\sum_{j=1}^s\\frac{(N_{ij} - e_{ij})^2}{e_{ij}}$$ where $N_{ij}$ is the number of observed samples with associated value $i$ for the $X$ characteristic and associated value $j$ for the $Y$ characteristic and $e_{ij}$ is the expected number of observations with associated value $i$ for the $X$ characteristic and associated value $j$ for the $Y$ characteristic, for $i=1,2,\\dots,r$ and $j=1,2,\\dots,s$. For a large sample size $n$, $TS$ will have an approximately chi-squared distribution with $rs-1$ degrees of freedom. (This is not an obvious result and we will not justfity it here.)"
   ]
  },
  {
   "cell_type": "markdown",
   "id": "a449fac9",
   "metadata": {
    "slideshow": {
     "slide_type": "subslide"
    }
   },
   "source": [
    "One issue with the above approach is that we do not know the values of $e_{ij}$ since the values of $P_i$ and $Q_j$ are not part of the null hypothesis (only the relationships between them). So without knowing $e_{ij},$ we must replace it in our test statistic by an estimate, namely: $$\\hat{e}_{ij} = \\frac{N_iM_j}{n}$$ where $n$ is the total number of samples, $N_i$ is the number of samples with associated value $i$ for the $X$ characteristic and $M_j$ is the number of samples with associated value $j$ for the $Y$ characteristic."
   ]
  },
  {
   "cell_type": "markdown",
   "id": "28c24711",
   "metadata": {
    "slideshow": {
     "slide_type": "subslide"
    }
   },
   "source": [
    "So we will *actually* use the test statistic: $$TS = \\sum_{i=1}^r\\sum_{j=1}^s\\frac{(N_{ij} - \\hat{e}_{ij})^2}{\\hat{e}_{ij}}.$$ For a large sample size $n$, $TS$ will have an approximately chi-squared distribution with $(r-1)(s-1)$ degrees of freedom. (This is not an obvious result and we will not justfity it here.)"
   ]
  },
  {
   "cell_type": "markdown",
   "id": "6c4741d8",
   "metadata": {
    "slideshow": {
     "slide_type": "subslide"
    }
   },
   "source": [
    "We get that a significance-level-$\\alpha$ test of the null hypothesis $H_0$ against the alternative $H_1$ is to reject $H_0$ if $$TS\\geq \\chi^2_{(r-1)(s-1),\\alpha}$$ and not to reject $H_0$ otherwise. This is referred to as a **chi-squared test of independence**."
   ]
  },
  {
   "cell_type": "markdown",
   "id": "432e3c08",
   "metadata": {
    "slideshow": {
     "slide_type": "slide"
    }
   },
   "source": [
    "## Back to the Example\n",
    "\n",
    "Putting our data into a pandas dataframe, we can compute the relevant statistics for at the 5 percent significance level."
   ]
  },
  {
   "cell_type": "code",
   "execution_count": 1,
   "id": "59db686a",
   "metadata": {
    "slideshow": {
     "slide_type": "fragment"
    }
   },
   "outputs": [],
   "source": [
    "import pandas as pd\n",
    "import scipy as sp"
   ]
  },
  {
   "cell_type": "code",
   "execution_count": 2,
   "id": "5b95cb0e",
   "metadata": {
    "slideshow": {
     "slide_type": "subslide"
    }
   },
   "outputs": [
    {
     "name": "stdout",
     "output_type": "stream",
     "text": [
      "The test statistic value: 0.9467\n",
      "The p-value: 0.9178\n",
      "The degrees of freedom: 4\n",
      "The 95th percentile: 9.4877\n"
     ]
    }
   ],
   "source": [
    "data =  pd.DataFrame([[30, 21, 9],\n",
    "                      [36, 29, 8],\n",
    "                      [12,  8, 2]])\n",
    "\n",
    "result = sp.stats.chi2_contingency(data)\n",
    "print(f'The test statistic value: {round(result[0],4)}')\n",
    "print(f'The p-value: {round(result[1],4)}')\n",
    "print(f'The degrees of freedom: {result[2]}')\n",
    "print(f'The 95th percentile: {round(sp.stats.chi2.ppf(0.95,result[2]),4)}')"
   ]
  },
  {
   "cell_type": "markdown",
   "id": "593479cc",
   "metadata": {
    "slideshow": {
     "slide_type": "fragment"
    }
   },
   "source": [
    "Our result suggests that we should not reject the null hypothesis at the 5 percent significance level."
   ]
  },
  {
   "cell_type": "markdown",
   "id": "3fbdbecb",
   "metadata": {
    "slideshow": {
     "slide_type": "slide"
    }
   },
   "source": [
    "## Examples\n",
    "\n",
    "1. Suppose that a random sample of 300 people were chosen from the population, with the following data resulting:\n",
    "\n",
    "|    | Democrat | Republican | Independent | \n",
    "| ---| ----     | ------     | ------      |\n",
    "|Women | 68 | 56 | 32|\n",
    "|Men   | 52 | 72 | 20 |\n",
    "\n",
    "What conclusion can be drawn? Use the 5 percent level of significance."
   ]
  },
  {
   "cell_type": "markdown",
   "id": "aee364a6",
   "metadata": {
    "slideshow": {
     "slide_type": "subslide"
    }
   },
   "source": [
    "## Problem 1\n",
    "\n",
    "Let $P_1$ and $P_2$ represent the proportions of the population that are women and men, respectively, Let $Q_1$, $Q_2$ and $Q_3$ represent the proportions of the population that are democrats, republicans, and independents, respectively. Then $$H_0: P_{ij} = P_iQ_j\\text{ for all $i$ and $j$}$$ against the alternative $$H_1: P_{ij}\\neq P_iQ_j\\text{ for some choice of $i$ and $j$}.$$ (Note that $P_{ij} = P\\{X=i\\text{ and }Y=j\\}.$)"
   ]
  },
  {
   "cell_type": "code",
   "execution_count": 3,
   "id": "dbadae10",
   "metadata": {
    "slideshow": {
     "slide_type": "subslide"
    }
   },
   "outputs": [
    {
     "name": "stdout",
     "output_type": "stream",
     "text": [
      "The test statistic value: 6.4329\n",
      "The p-value: 0.0401\n",
      "The degrees of freedom: 2\n",
      "The 95th percentile: 5.9915\n"
     ]
    }
   ],
   "source": [
    "data = pd.DataFrame([[68, 56, 32],\n",
    "                     [52, 72, 20]])\n",
    "                     \n",
    "result = sp.stats.chi2_contingency(data)\n",
    "print(f'The test statistic value: {round(result[0],4)}')\n",
    "print(f'The p-value: {round(result[1],4)}')\n",
    "print(f'The degrees of freedom: {result[2]}')\n",
    "print(f'The 95th percentile: {round(sp.stats.chi2.ppf(0.95,result[2]),4)}')"
   ]
  },
  {
   "cell_type": "markdown",
   "id": "271ebb8c",
   "metadata": {
    "slideshow": {
     "slide_type": "subslide"
    }
   },
   "source": [
    "Our computations suggest that we reject the null hypothesis at the 5 percent level of significance that gender and political affiliation are independent."
   ]
  },
  {
   "cell_type": "markdown",
   "id": "dc765150",
   "metadata": {
    "slideshow": {
     "slide_type": "subslide"
    }
   },
   "source": [
    "2.  A public health scientist wanted to learn about the relationship between the marital status of patients being treated for depression and the severity of their conditions. The scientist chose a random sample of 159 patients who had been treated for depression at a mental health clinic and had these patients classified according to the severity of their depression—severe, normal,ormild—and according to their marital status. The following data resulted.\n",
    "\n",
    "|        | Married | Single | Widowed or Divorced | \n",
    "| ---    | ----    | ----   | --------            |\n",
    "|Severe | 22 | 16 | 19 |\n",
    "|Normal | 33 | 29 | 14 | \n",
    "|Mild   | 14 | 9  | 3  |\n",
    "\n",
    "Determine the p value of the test of the hypothesis that the depressive state of the clinic’s patients is independent of their marital status."
   ]
  },
  {
   "cell_type": "markdown",
   "id": "e1f793d4",
   "metadata": {
    "slideshow": {
     "slide_type": "subslide"
    }
   },
   "source": [
    "## Problem 2"
   ]
  },
  {
   "cell_type": "code",
   "execution_count": 4,
   "id": "a777daa6",
   "metadata": {
    "slideshow": {
     "slide_type": "fragment"
    }
   },
   "outputs": [
    {
     "name": "stdout",
     "output_type": "stream",
     "text": [
      "The test statistic value: 6.8281\n",
      "The p-value: 0.1453\n",
      "The degrees of freedom: 4\n",
      "The 95th percentile: 9.4877\n"
     ]
    }
   ],
   "source": [
    "data = pd.DataFrame([[22, 16, 19],\n",
    "                     [33, 29, 14],\n",
    "                     [14,  9,  3]])\n",
    "\n",
    "result = sp.stats.chi2_contingency(data)\n",
    "print(f'The test statistic value: {round(result[0],4)}')\n",
    "print(f'The p-value: {round(result[1],4)}')\n",
    "print(f'The degrees of freedom: {result[2]}')\n",
    "print(f'The 95th percentile: {round(sp.stats.chi2.ppf(0.95,result[2]),4)}')"
   ]
  },
  {
   "cell_type": "markdown",
   "id": "47c11dcb",
   "metadata": {
    "slideshow": {
     "slide_type": "fragment"
    }
   },
   "source": [
    "Our computations show a p value of approximately 0.1453."
   ]
  },
  {
   "cell_type": "markdown",
   "id": "fbd4dd4d",
   "metadata": {
    "slideshow": {
     "slide_type": "subslide"
    }
   },
   "source": [
    "3. A random sample of 160 patients at a health maintenance organization yielded the following information about their smoking status and blood cholesterol counts:\n",
    "\n",
    "| Smoking Status | Low BCC | Moderate BCC | High BCC | \n",
    "| -------        | -----   | --------     | ------   |\n",
    "|Heavy | 6|14|24|\n",
    "|Light | 12|23|15|\n",
    "|Nonsmoker | 23|32|11|\n",
    "\n",
    "Would the hypothesis of independence between blood cholesterol count and smoking status be rejected at the 5 percent level of significance?"
   ]
  },
  {
   "cell_type": "markdown",
   "id": "8d6110f2",
   "metadata": {
    "slideshow": {
     "slide_type": "subslide"
    }
   },
   "source": [
    "## Problem 3"
   ]
  },
  {
   "cell_type": "code",
   "execution_count": 5,
   "id": "166e6d86",
   "metadata": {
    "slideshow": {
     "slide_type": "fragment"
    }
   },
   "outputs": [
    {
     "name": "stdout",
     "output_type": "stream",
     "text": [
      "The test statistic value: 18.708\n",
      "The p-value: 0.0009\n",
      "The degrees of freedom: 4\n",
      "The 95th percentile: 9.4877\n"
     ]
    }
   ],
   "source": [
    "data = pd.DataFrame([[ 6, 14, 24],\n",
    "                     [12, 23, 15],\n",
    "                     [23, 32, 11]])\n",
    "\n",
    "result = sp.stats.chi2_contingency(data)\n",
    "print(f'The test statistic value: {round(result[0],4)}')\n",
    "print(f'The p-value: {round(result[1],4)}')\n",
    "print(f'The degrees of freedom: {result[2]}')\n",
    "print(f'The 95th percentile: {round(sp.stats.chi2.ppf(0.95,result[2]),4)}')"
   ]
  },
  {
   "cell_type": "markdown",
   "id": "2d3e83e1",
   "metadata": {
    "slideshow": {
     "slide_type": "fragment"
    }
   },
   "source": [
    "Our computations suggest that we reject the null hypothesis at the 5 percent level of significance that blood cholesterol count and smoking status are independent."
   ]
  }
 ],
 "metadata": {
  "celltoolbar": "Slideshow",
  "kernelspec": {
   "display_name": "Python 3.10.12 - rstudio",
   "language": "python",
   "name": "rstudio-user-3.10.12"
  },
  "language_info": {
   "codemirror_mode": {
    "name": "ipython",
    "version": 3
   },
   "file_extension": ".py",
   "mimetype": "text/x-python",
   "name": "python",
   "nbconvert_exporter": "python",
   "pygments_lexer": "ipython3",
   "version": "3.10.12"
  }
 },
 "nbformat": 4,
 "nbformat_minor": 5
}
