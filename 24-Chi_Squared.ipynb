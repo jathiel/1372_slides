{
 "cells": [
  {
   "cell_type": "markdown",
   "id": "aa10736c",
   "metadata": {
    "slideshow": {
     "slide_type": "slide"
    }
   },
   "source": [
    "# Chi-Squared Distributions and Goodness-of-Fit Tests"
   ]
  },
  {
   "cell_type": "markdown",
   "id": "57fc93a0",
   "metadata": {
    "slideshow": {
     "slide_type": "slide"
    }
   },
   "source": [
    "## Chi-Squared Distribution\n",
    "\n",
    "If $Z_1,Z_2,\\dots, Z_n$ are independent standard normal random variables, then the random variable $$\\sum_{i=1}^nZ_i^2$$ is said to be a **chi-squared random variable** with $n$ degrees of freedom. It has an expected value of $n$."
   ]
  },
  {
   "cell_type": "markdown",
   "id": "ee96dedb",
   "metadata": {
    "slideshow": {
     "slide_type": "subslide"
    }
   },
   "source": [
    "## Sample Variance\n",
    "\n",
    "This proof of this result is beyond the scope of this class, but $$S^2 = \\frac{1}{n-1}\\sum_{i=1}^n\\left(X_i-\\overline{X}\\right)^2$$ has a chi-squared distribution with $n-1$ degrees of freedom."
   ]
  },
  {
   "cell_type": "markdown",
   "id": "44d2368f",
   "metadata": {
    "slideshow": {
     "slide_type": "slide"
    }
   },
   "source": [
    "## A Motivating Example\n",
    "\n",
    "To determine whether accidents are more likely to occur on certain days of the week, data have been collected on all the accidents requiring medical attention that occurred over the last 12 months at an automobile plant in northern California. The data yielded a total of 250 accidents, with the number occurring on each day of the week being as follows:\n",
    " \n",
    " | Weekday   |Count|\n",
    " |-----------|-----|\n",
    " | Monday    |  62 |\n",
    " | Tuesday   |  47 | \n",
    " | Wednesday |  44 |\n",
    " |Thursday   |  45 |\n",
    " |Friday     |  52 |\n",
    "\n",
    "How can we test the hypothesis that accidents are equally likely to occur on any day of the work week?"
   ]
  },
  {
   "cell_type": "markdown",
   "id": "4152635d",
   "metadata": {
    "slideshow": {
     "slide_type": "slide"
    }
   },
   "source": [
    "### Chi-Squared Goodness-of-Fit Tests\n",
    "\n",
    "Suppose that you have a large population where each member has a value associated with them, say, from $1$ to $k$ (the values don't have to be numerical, they can be *categorical*). Let $P_1, P_2,\\dots, P_k$ be the true proportions of the population that have values $1,2,\\dots,k$. Suppose that we believe that each of the $k$ different values occur with probabilities $p_1, p_2, \\dots, p_k$, respectfully. Then we are interested in testing $$H_0: P_1 = p_1,P_2=p_2,\\dots,P_k=p_k$$ against the alternative $$H_1: P_i\\neq p_i\\text{ for some $i$, $i=1,2,\\dots,k$}.$$"
   ]
  },
  {
   "cell_type": "markdown",
   "id": "43a81c01",
   "metadata": {
    "slideshow": {
     "slide_type": "subslide"
    }
   },
   "source": [
    "We can do this by computing the following test statistic: $$TS = \\sum_{i=1}^k\\frac{(N_i - e_i)^2}{e_i}$$ where $N_i$ is the number of observed samples with associated value $i$ and $e_i$ is the expected number of observations with associated value $i$, for $i=1,2,\\dots,k$. For a large sample size $n$, $TS$ will have an approximately chi-squared distribution with $k-1$ degrees of freedom. (This is not an obvious result and we will not justfity it here.)"
   ]
  },
  {
   "cell_type": "markdown",
   "id": "8830332c",
   "metadata": {
    "slideshow": {
     "slide_type": "subslide"
    }
   },
   "source": [
    "Letting $\\chi^2_{k,\\alpha}$ denote the $100(1-\\alpha)$th percentile for chi-squared random variable with $k$ degrees of freedom, we get that a significance-level-$\\alpha$ test of the null hypothesis $H_0$ against the alternative $H_1$ is to reject $H_0$ if $$TS\\geq \\chi^2_{k-1,\\alpha}$$ and not to reject $H_0$ otherwise. This is referred to as a **chi-squared goodness-of-fit test**."
   ]
  },
  {
   "cell_type": "markdown",
   "id": "cd516b5c",
   "metadata": {
    "slideshow": {
     "slide_type": "subslide"
    }
   },
   "source": [
    "## Hypothesis test rejection area\n",
    "\n",
    "![Chi-squared Rejection](chi_squared_24.png)"
   ]
  },
  {
   "cell_type": "markdown",
   "id": "26d7fa6b",
   "metadata": {
    "slideshow": {
     "slide_type": "slide"
    }
   },
   "source": [
    "## Back to the Example\n",
    "\n",
    "In our earlier example we wanted to test the hypothesis that accidents are equally likely to occur on any weekday. Numbering the weekdays $1,2,\\dots,5$ from Monday to Friday, we denote by $P_i$ the proportion of accidents that occur on day $i$ with $i=1,\\dots,5$. So our null hypothesis is $$H_0: P_i=\\frac{1}{5},\\text{ $i=1,\\dots,5$}$$ and our alternative hypothesis is $$H_1: P_i\\neq \\frac{1}{5}\\text{ for some $i$, $i=1,\\dots,5$.}$$"
   ]
  },
  {
   "cell_type": "markdown",
   "id": "effc3efe",
   "metadata": {
    "slideshow": {
     "slide_type": "subslide"
    }
   },
   "source": [
    "We compute the test statistic $$TS = \\frac{(62-50)^2}{50} + \\frac{(47-50)^2}{50} + \\frac{(44-50)^2}{50} + \\frac{(45-50)^2}{50} + \\frac{(52-50)^2}{50} = 4.36.$$ In this case, since $\\chi^2_{4,0.05} \\approx 9.49$, we do not reject the null hypothesis at the 5 percent level of significance."
   ]
  },
  {
   "cell_type": "markdown",
   "id": "e82bc6b1",
   "metadata": {
    "slideshow": {
     "slide_type": "subslide"
    }
   },
   "source": [
    "## Computations "
   ]
  },
  {
   "cell_type": "code",
   "execution_count": 1,
   "id": "d8e87ebd",
   "metadata": {
    "slideshow": {
     "slide_type": "fragment"
    }
   },
   "outputs": [
    {
     "name": "stdout",
     "output_type": "stream",
     "text": [
      "The test statistic value: 4.36\n",
      "The 95th percentile for a chi-squared dist with 4 dof: 9.4877\n",
      "The p-value for the test statistic: 0.3595\n"
     ]
    }
   ],
   "source": [
    "import pandas as pd\n",
    "import scipy as sp\n",
    "\n",
    "data = pd.Series([62,47,44,45,52])\n",
    "TS = ((data-50)**2/50).sum()\n",
    "chi2_95_4 = round(sp.stats.chi2.ppf(0.95,4),4)\n",
    "p = round(1 - sp.stats.chi2.cdf(TS,4),4)\n",
    "\n",
    "print(f'The test statistic value: {TS}')\n",
    "print(f'The 95th percentile for a chi-squared dist with 4 dof: {chi2_95_4}')\n",
    "print(f'The p-value for the test statistic: {p}')"
   ]
  },
  {
   "cell_type": "markdown",
   "id": "0cbe4a8c",
   "metadata": {
    "slideshow": {
     "slide_type": "slide"
    }
   },
   "source": [
    "## Examples\n",
    "\n",
    "1. In a certain county, it has been historically accepted that 52 percent of the patients who go to hospital emergency rooms are in stable condition, 32 percent are in serious condition, and 16 percent are in critical condition. However,a particular county hospital feels that its percentages are different. To prove its claim, the hospital has randomly selected a sample of 300 patients who have visited its emergency room in the past 6 months. The numbers falling in each grouping are as follows:\n",
    " \n",
    " |Condition | Count|\n",
    " |----------|------|\n",
    " |Stable| 148\n",
    " |Serious| 92\n",
    " |Critical| 60\n",
    "\n",
    "Do these data prove the claim of the hospital?"
   ]
  },
  {
   "cell_type": "markdown",
   "id": "b6d6a35a",
   "metadata": {
    "slideshow": {
     "slide_type": "subslide"
    }
   },
   "source": [
    "## Problem 1\n",
    "\n",
    "Let $P_1$, $P_2$, and $P_3$ be the proportions of cases where the patients are in stable, serious, and critical condition, respectively. Then $$H_0: P_1 = 0.52, P_2 = 0.32, P_3 = 0.16.$$ The alternative hypothesis, $H_1$ is that one of these equalities does not hold."
   ]
  },
  {
   "cell_type": "code",
   "execution_count": 2,
   "id": "7f98f1d2",
   "metadata": {
    "slideshow": {
     "slide_type": "subslide"
    }
   },
   "outputs": [
    {
     "name": "stdout",
     "output_type": "stream",
     "text": [
      "The test statistic value: 3.5769\n",
      "The p-value for the test statistic: 0.1672\n"
     ]
    }
   ],
   "source": [
    "n = 300\n",
    "probs = pd.Series([0.52, 0.32, 0.16])\n",
    "counts = pd.Series([148, 92, 60])\n",
    "TS = round(((counts - n*probs)**2/(n*probs)).sum(),4)\n",
    "p = round(1 - sp.stats.chi2.cdf(TS,2),4)\n",
    "\n",
    "print(f'The test statistic value: {TS}')\n",
    "print(f'The p-value for the test statistic: {p}')"
   ]
  },
  {
   "cell_type": "markdown",
   "id": "c7dac931",
   "metadata": {
    "slideshow": {
     "slide_type": "fragment"
    }
   },
   "source": [
    "The computations suggest that we would not reject $H_0$ at the 5 percent significance level."
   ]
  },
  {
   "cell_type": "markdown",
   "id": "e8b45c71",
   "metadata": {
    "slideshow": {
     "slide_type": "subslide"
    }
   },
   "source": [
    "2.  Consider an experiment having six possible outcomes whose probabilities are hypothesized to be 0.1, 0.1, 0.05, 0.4, 0.2, and 0.15. This is to be tested by performing 60 independent replications of the experiment. If the resultant number of times that each of the six outcomes occur is 4, 3, 7, 17, 16, and 13, should the hypothesis be rejected? Use the 5 percent level of significance."
   ]
  },
  {
   "cell_type": "markdown",
   "id": "f6ca2c77",
   "metadata": {
    "slideshow": {
     "slide_type": "subslide"
    }
   },
   "source": [
    "## Problem 2"
   ]
  },
  {
   "cell_type": "code",
   "execution_count": 3,
   "id": "bbe3eb56",
   "metadata": {
    "slideshow": {
     "slide_type": "subslide"
    }
   },
   "outputs": [
    {
     "name": "stdout",
     "output_type": "stream",
     "text": [
      "The test statistic value: 12.6528\n",
      "The p-value for the test statistic: 0.0269\n"
     ]
    }
   ],
   "source": [
    "n = 60\n",
    "probs = pd.Series([0.1, 0.1, 0.05, 0.4, 0.2, 0.15])\n",
    "counts = pd.Series([4, 3, 7, 17, 16, 13])\n",
    "TS = round(((counts - n*probs)**2/(n*probs)).sum(),4)\n",
    "p = round(1 - sp.stats.chi2.cdf(TS,5),4)\n",
    "\n",
    "print(f'The test statistic value: {TS}')\n",
    "print(f'The p-value for the test statistic: {p}')"
   ]
  },
  {
   "cell_type": "markdown",
   "id": "0b7c1a75",
   "metadata": {
    "slideshow": {
     "slide_type": "fragment"
    }
   },
   "source": [
    "We reject the null hypothesis at the 5 percent significance level."
   ]
  },
  {
   "cell_type": "markdown",
   "id": "cb9015dc",
   "metadata": {
    "slideshow": {
     "slide_type": "slide"
    }
   },
   "source": [
    "## Fraud Detection\n",
    "\n",
    "Here is a sequence of 300 coin flips. We would like to study whether the sequence was the result of 300 actual coin flips, or not.\n",
    "\n",
    "TTHHTHTTHTTTHTTTHTTTHTTHTHHTHHTHTHHTTTHHTHTHTTHTHH\n",
    "TTHTHHTHTTTHHTTHHTTHHHTHHTHTTHTHTTHHTHHHTTHTHTTTHH\n",
    "TTHTHTHTHTHTTHTHTHHHTTHTHTHHTHHHTHTHTTHTTHHTHTHTHT\n",
    "THHTTHTHTTHHHTHTHTHTTHTTHHTTHTHHTHHHTTHHTHTTHTHTHT\n",
    "HTHTHTHHHTHTHTHTHHTHHTHTHTTHTTTHHTHTTTHTHHTHHHHTTT\n",
    "HHTHTHTHTHHHTTHHTHTTTHTHHTHTHTHHTHTTHTTHTHHTHTHTTT"
   ]
  },
  {
   "cell_type": "markdown",
   "id": "ed861c71",
   "metadata": {
    "slideshow": {
     "slide_type": "fragment"
    }
   },
   "source": [
    "A first attempt might be to run a chi-squared goodness-of-fitness test between the number of heads and tails."
   ]
  },
  {
   "cell_type": "code",
   "execution_count": 4,
   "id": "589371a4",
   "metadata": {
    "slideshow": {
     "slide_type": "subslide"
    }
   },
   "outputs": [
    {
     "name": "stdout",
     "output_type": "stream",
     "text": [
      "The test statistic value: 0.0533\n",
      "The p-value for the test statistic: 0.8174\n"
     ]
    }
   ],
   "source": [
    "flips = 'TTHHTHTTHTTTHTTTHTTTHTTHTHHTHHTHTHHTTTHHTHTHTTHTHHTTHTHHTHTTTHHTTHHTTHHHTHHTHTTHTHTTHHTHHHTTHTHTTTHHTTHTHTHTHTHTTHTHTHHHTTHTHTHHTHHHTHTHTTHTTHHTHTHTHTTHHTTHTHTTHHHTHTHTHTTHTTHHTTHTHHTHHHTTHHTHTTHTHTHTHTHTHTHHHTHTHTHTHHTHHTHTHTTHTTTHHTHTTTHTHHTHHHHTTTHHTHTHTHTHHHTTHHTHTTTHTHHTHTHTHHTHTTHTTHTHHTHTHTTT'\n",
    "\n",
    "heads = sum([1 for result in flips if result == 'H'])\n",
    "tails = 300 - heads\n",
    "TS = round((heads-150)**2/150 + (tails-150)**2/150,4)\n",
    "p = round(1 - sp.stats.chi2.cdf(TS,1),4)\n",
    "\n",
    "print(f'The test statistic value: {TS}')\n",
    "print(f'The p-value for the test statistic: {p}')"
   ]
  },
  {
   "cell_type": "markdown",
   "id": "a35d4bb8",
   "metadata": {
    "slideshow": {
     "slide_type": "fragment"
    }
   },
   "source": [
    "The work above suggests that it is not that unlikely to have seen this number of heads and tails. But can we do more?"
   ]
  },
  {
   "cell_type": "markdown",
   "id": "f9c346cb",
   "metadata": {
    "slideshow": {
     "slide_type": "subslide"
    }
   },
   "source": [
    "We will now conduct a chi-squared goodness-of-fitness test on consecutive pairs of results. We expect that $HH$, $HT$, $TH$, and $TT$ should all come out with equal probabilites $1/4$. (Note: we don't quite get the independence we need to run a chi-squared goodness-of-fitness test, but with a large enough dataset, this effect is almost nonexistent.)"
   ]
  },
  {
   "cell_type": "code",
   "execution_count": 5,
   "id": "77730e1d",
   "metadata": {
    "slideshow": {
     "slide_type": "subslide"
    }
   },
   "outputs": [
    {
     "name": "stdout",
     "output_type": "stream",
     "text": [
      "The test statistic value: 39.796\n",
      "The p-value for the test statistic: 1.1771e-08\n"
     ]
    }
   ],
   "source": [
    "hh = sum([1 for i in range(len(flips[:-1])) if flips[i:i+2] == 'HH'])\n",
    "ht = sum([1 for i in range(len(flips[:-1])) if flips[i:i+2] == 'HT'])\n",
    "th = sum([1 for i in range(len(flips[:-1])) if flips[i:i+2] == 'TH'])\n",
    "tt = 299 - hh - ht - th\n",
    "TS = round((hh-299/4)**2/(299/4) + (ht-299/4)**2/(299/4) + (th-299/4)**2/(299/4) + (tt-299/4)**2/(299/4),4)\n",
    "p = round(1 - sp.stats.chi2.cdf(TS,3),12)\n",
    "\n",
    "print(f'The test statistic value: {TS}')\n",
    "print(f'The p-value for the test statistic: {p}')"
   ]
  },
  {
   "cell_type": "markdown",
   "id": "60d60203",
   "metadata": {
    "slideshow": {
     "slide_type": "fragment"
    }
   },
   "source": [
    "Our result seems to show that this dataset is extremely unlikely to have occurred by chance."
   ]
  }
 ],
 "metadata": {
  "celltoolbar": "Slideshow",
  "kernelspec": {
   "display_name": "Python 3.10.12 - rstudio",
   "language": "python",
   "name": "rstudio-user-3.10.12"
  },
  "language_info": {
   "codemirror_mode": {
    "name": "ipython",
    "version": 3
   },
   "file_extension": ".py",
   "mimetype": "text/x-python",
   "name": "python",
   "nbconvert_exporter": "python",
   "pygments_lexer": "ipython3",
   "version": "3.10.12"
  }
 },
 "nbformat": 4,
 "nbformat_minor": 5
}
